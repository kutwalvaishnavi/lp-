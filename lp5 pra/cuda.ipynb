{
  "nbformat": 4,
  "nbformat_minor": 0,
  "metadata": {
    "colab": {
      "provenance": [],
      "gpuType": "T4"
    },
    "kernelspec": {
      "name": "python3",
      "display_name": "Python 3"
    },
    "language_info": {
      "name": "python"
    },
    "accelerator": "GPU"
  },
  "cells": [
    {
      "cell_type": "code",
      "execution_count": null,
      "metadata": {
        "colab": {
          "base_uri": "https://localhost:8080/"
        },
        "id": "qdlbk_ah_ADU",
        "outputId": "1ded7120-e872-4388-a281-342d68e2a4fb"
      },
      "outputs": [
        {
          "output_type": "stream",
          "name": "stdout",
          "text": [
            "Thu May  8 08:24:11 2025       \n",
            "+-----------------------------------------------------------------------------------------+\n",
            "| NVIDIA-SMI 550.54.15              Driver Version: 550.54.15      CUDA Version: 12.4     |\n",
            "|-----------------------------------------+------------------------+----------------------+\n",
            "| GPU  Name                 Persistence-M | Bus-Id          Disp.A | Volatile Uncorr. ECC |\n",
            "| Fan  Temp   Perf          Pwr:Usage/Cap |           Memory-Usage | GPU-Util  Compute M. |\n",
            "|                                         |                        |               MIG M. |\n",
            "|=========================================+========================+======================|\n",
            "|   0  Tesla T4                       Off |   00000000:00:04.0 Off |                    0 |\n",
            "| N/A   38C    P8              9W /   70W |       0MiB /  15360MiB |      0%      Default |\n",
            "|                                         |                        |                  N/A |\n",
            "+-----------------------------------------+------------------------+----------------------+\n",
            "                                                                                         \n",
            "+-----------------------------------------------------------------------------------------+\n",
            "| Processes:                                                                              |\n",
            "|  GPU   GI   CI        PID   Type   Process name                              GPU Memory |\n",
            "|        ID   ID                                                               Usage      |\n",
            "|=========================================================================================|\n",
            "|  No running processes found                                                             |\n",
            "+-----------------------------------------------------------------------------------------+\n"
          ]
        }
      ],
      "source": [
        "!nvidia-smi"
      ]
    },
    {
      "cell_type": "code",
      "source": [
        "%%writefile matmul.cu\n",
        "\n",
        "\n",
        " #include <stdio.h>\n",
        "\n",
        "__global__ void matmul(float *A, float *B, float *C, int N)\n",
        "{\n",
        "\n",
        "    int col = blockIdx.x * blockDim.x + threadIdx.x;\n",
        "    int row = blockIdx.y * blockDim.y + threadIdx.y;\n",
        "    if(row < N && col < N)\n",
        "    {\n",
        "        float sum = 0;\n",
        "        for(int k = 0; k < N;k++)\n",
        "            sum = sum + A[row * N + k] * B[N * k + col];\n",
        "        C[row * N + col] = sum;\n",
        "    }\n",
        "\n",
        "}\n",
        "int main()\n",
        "{\n",
        "  int N = 2;\n",
        "    size_t size = N * N *sizeof(float);\n",
        "    float A[] = {1,2,3,4};\n",
        "    float B[] = {5,6,7,8};\n",
        "    float C[4];\n",
        "\n",
        "    float *d_A,*d_B,*d_C;\n",
        "\n",
        "    cudaMalloc(&d_A,size);\n",
        "    cudaMalloc(&d_B,size);\n",
        "    cudaMalloc(&d_C,size);\n",
        "\n",
        "    cudaMemcpy(d_A,A,size,cudaMemcpyHostToDevice);\n",
        "    cudaMemcpy(d_B,B,size,cudaMemcpyHostToDevice);\n",
        "\n",
        "     dim3 blocks(N,N);\n",
        "    dim3 threads(1,1);\n",
        "\n",
        "    matmul<<<blocks,threads>>>(d_A,d_B,d_C,N);\n",
        "    cudaMemcpy(C,d_C,size,cudaMemcpyDeviceToHost);\n",
        "\n",
        "    for(int i=0;i< N*N;i++)\n",
        "    {\n",
        "        printf(\" %f\",C[i]);\n",
        "        printf(\"\\n\");\n",
        "    }\n",
        "\n",
        "}"
      ],
      "metadata": {
        "colab": {
          "base_uri": "https://localhost:8080/"
        },
        "id": "ZOJK_ciY_YJJ",
        "outputId": "8daf5f7d-d7b1-47b1-9e66-42115e8804f9"
      },
      "execution_count": null,
      "outputs": [
        {
          "output_type": "stream",
          "name": "stdout",
          "text": [
            "Overwriting matmul.cu\n"
          ]
        }
      ]
    },
    {
      "cell_type": "code",
      "source": [
        "!nvcc -arch=sm_75 matmul.cu -o matmul"
      ],
      "metadata": {
        "id": "mpdf07D5_tV5"
      },
      "execution_count": null,
      "outputs": []
    },
    {
      "cell_type": "code",
      "source": [
        "!./matmul"
      ],
      "metadata": {
        "colab": {
          "base_uri": "https://localhost:8080/"
        },
        "id": "AjIVo5q5_yPY",
        "outputId": "87779649-474e-4bf7-ceaa-8b933a1ce3a3"
      },
      "execution_count": null,
      "outputs": [
        {
          "output_type": "stream",
          "name": "stdout",
          "text": [
            " 19.000000\n",
            " 22.000000\n",
            " 43.000000\n",
            " 50.000000\n"
          ]
        }
      ]
    },
    {
      "cell_type": "code",
      "source": [
        "%%writefile add.cu\n",
        "\n",
        " #include <stdio.h>\n",
        "\n",
        "__global__ void add(float *A, float *B, float *C, int N)\n",
        "{\n",
        "\n",
        "    int i = blockIdx.x * blockDim.x + threadIdx.x;\n",
        "    if(i < N){\n",
        "\n",
        "      C[i]=A[i]+B[i];\n",
        "    }\n",
        "\n",
        "}\n",
        "int main()\n",
        "{\n",
        "  int N = 4;\n",
        "    size_t size = N *sizeof(float);\n",
        "    float A[] = {1,2,3,4};\n",
        "    float B[] = {5,6,7,8};\n",
        "    float C[4];\n",
        "\n",
        "    float *d_A,*d_B,*d_C;\n",
        "\n",
        "    cudaMalloc(&d_A,size);\n",
        "    cudaMalloc(&d_B,size);\n",
        "    cudaMalloc(&d_C,size);\n",
        "\n",
        "    cudaMemcpy(d_A,A,size,cudaMemcpyHostToDevice);\n",
        "    cudaMemcpy(d_B,B,size,cudaMemcpyHostToDevice);\n",
        "\n",
        "\n",
        "    add<<<1,N>>>(d_A,d_B,d_C,N);\n",
        "    cudaMemcpy(C,d_C,size,cudaMemcpyDeviceToHost);\n",
        "\n",
        "    for(int i=0;i< N;i++)\n",
        "    {\n",
        "        printf(\" %f\",C[i]);\n",
        "        printf(\"\\n\");\n",
        "    }\n",
        "\n",
        "}"
      ],
      "metadata": {
        "colab": {
          "base_uri": "https://localhost:8080/"
        },
        "id": "vvWvpMumAQZ5",
        "outputId": "78d0a4db-d7e7-4ee1-eb5b-0b765012ffe2"
      },
      "execution_count": null,
      "outputs": [
        {
          "output_type": "stream",
          "name": "stdout",
          "text": [
            "Overwriting add.cu\n"
          ]
        }
      ]
    },
    {
      "cell_type": "code",
      "source": [
        "!nvcc -arch=sm_75 add.cu -o add"
      ],
      "metadata": {
        "id": "Xgnzx4q1G5k0"
      },
      "execution_count": null,
      "outputs": []
    },
    {
      "cell_type": "code",
      "source": [
        "!./add"
      ],
      "metadata": {
        "colab": {
          "base_uri": "https://localhost:8080/"
        },
        "id": "_zvxc__rG_Z8",
        "outputId": "a148a345-28db-4587-db74-e19e41611665"
      },
      "execution_count": null,
      "outputs": [
        {
          "output_type": "stream",
          "name": "stdout",
          "text": [
            " 6.000000\n",
            " 8.000000\n",
            " 10.000000\n",
            " 12.000000\n"
          ]
        }
      ]
    },
    {
      "cell_type": "code",
      "source": [],
      "metadata": {
        "id": "RLfPvDpFHG8n"
      },
      "execution_count": null,
      "outputs": []
    }
  ]
}